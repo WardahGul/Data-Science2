{
  "nbformat": 4,
  "nbformat_minor": 0,
  "metadata": {
    "colab": {
      "provenance": [],
      "authorship_tag": "ABX9TyPyqmbQcZKQjfOheiNNmNXq",
      "include_colab_link": true
    },
    "kernelspec": {
      "name": "python3",
      "display_name": "Python 3"
    },
    "language_info": {
      "name": "python"
    }
  },
  "cells": [
    {
      "cell_type": "markdown",
      "metadata": {
        "id": "view-in-github",
        "colab_type": "text"
      },
      "source": [
        "<a href=\"https://colab.research.google.com/github/WardahGul/Data-Science2/blob/main/Lab05_20SW034.ipynb\" target=\"_parent\"><img src=\"https://colab.research.google.com/assets/colab-badge.svg\" alt=\"Open In Colab\"/></a>"
      ]
    },
    {
      "cell_type": "markdown",
      "source": [
        "LAB #05\n",
        "Roll No#20SW034\n",
        "Section : 2"
      ],
      "metadata": {
        "id": "oRTlPP-7Wnm0"
      }
    },
    {
      "cell_type": "markdown",
      "source": [
        "Task#01"
      ],
      "metadata": {
        "id": "XG8m6Aq8W74O"
      }
    },
    {
      "cell_type": "code",
      "source": [
        "import pandas as pd\n",
        "\n",
        "distance_from_sun = [149.6, 1433.5, 227.9, 108.2, 778.6]\n",
        "planets = ['Earth', 'Saturn', 'Mars', 'Venus', 'Jupiter']\n",
        "\n",
        "dist_planets = pd.Series(distance_from_sun, index=planets)\n",
        "\n",
        "speed_of_light = 18\n",
        "time_light = dist_planets / speed_of_light\n",
        "\n",
        "close_planets = time_light[time_light < 40]\n",
        "\n",
        "print(\"Distance from the Sun:\\n\", dist_planets)\n",
        "print(\"\\nTime for sunlight to reach each planet:\\n\", time_light)\n",
        "print(\"\\nPlanets where sunlight takes less than 40 minutes:\\n\", close_planets)\n"
      ],
      "metadata": {
        "colab": {
          "base_uri": "https://localhost:8080/"
        },
        "id": "0Gw-QOSTW5oy",
        "outputId": "89fddc36-de3d-42d0-da6e-60f478d2c615"
      },
      "execution_count": null,
      "outputs": [
        {
          "output_type": "stream",
          "name": "stdout",
          "text": [
            "Distance from the Sun:\n",
            " Earth       149.6\n",
            "Saturn     1433.5\n",
            "Mars        227.9\n",
            "Venus       108.2\n",
            "Jupiter     778.6\n",
            "dtype: float64\n",
            "\n",
            "Time for sunlight to reach each planet:\n",
            " Earth       8.311111\n",
            "Saturn     79.638889\n",
            "Mars       12.661111\n",
            "Venus       6.011111\n",
            "Jupiter    43.255556\n",
            "dtype: float64\n",
            "\n",
            "Planets where sunlight takes less than 40 minutes:\n",
            " Earth     8.311111\n",
            "Mars     12.661111\n",
            "Venus     6.011111\n",
            "dtype: float64\n"
          ]
        }
      ]
    },
    {
      "cell_type": "markdown",
      "source": [
        "Task #02"
      ],
      "metadata": {
        "id": "yJpMAFQKZg79"
      }
    },
    {
      "cell_type": "code",
      "source": [
        "import pandas as pd\n",
        "import numpy as np\n",
        "books = pd.Series(data=['Great Expectations', 'Of Mice and Men', 'Romeo and Juliet', 'The Time Machine', 'Alice in Wonderland'])\n",
        "authors = pd.Series(data=['Charles Dickens', 'John Steinbeck', 'William Shakespeare', 'H. G. Wells', 'Lewis Carroll'])\n",
        "user_1 = pd.Series(data=[3.2, np.nan, 2.5])\n",
        "user_2 = pd.Series(data=[5., 1.3, 4.0, 3.8])\n",
        "user_3 = pd.Series(data=[2.0, 2.3, np.nan, 4])\n",
        "user_4 = pd.Series(data=[4, 3.5, 4, 5, 4.2])\n",
        "dat = {'Book Title': books,\n",
        "       'Author': authors,\n",
        "       'User 1': user_1,\n",
        "       'User 2': user_2,\n",
        "       'User 3': user_3,\n",
        "       'User 4': user_4}\n",
        "book_ratings = pd.DataFrame(dat)\n",
        "# Fill missing values with column means\n",
        "book_ratings.fillna(book_ratings.mean(), inplace=True)\n",
        "# Set the precision for displaying floating-point numbers\n",
        "#pd.set_option('precision', 1)\n",
        "print(book_ratings)\n",
        "print()\n",
        "best_rated = book_ratings[(book_ratings == 5).any(axis=1)]['Book Title'].values\n",
        "print(best_rated)\n"
      ],
      "metadata": {
        "colab": {
          "base_uri": "https://localhost:8080/"
        },
        "id": "1Ppa_5oIsDa9",
        "outputId": "19af680d-a64c-499c-d4dc-91a47a435c44"
      },
      "execution_count": 22,
      "outputs": [
        {
          "output_type": "stream",
          "name": "stdout",
          "text": [
            "            Book Title               Author  User 1  User 2    User 3  User 4\n",
            "0   Great Expectations      Charles Dickens    3.20   5.000  2.000000     4.0\n",
            "1      Of Mice and Men       John Steinbeck    2.85   1.300  2.300000     3.5\n",
            "2     Romeo and Juliet  William Shakespeare    2.50   4.000  2.766667     4.0\n",
            "3     The Time Machine          H. G. Wells    2.85   3.800  4.000000     5.0\n",
            "4  Alice in Wonderland        Lewis Carroll    2.85   3.525  2.766667     4.2\n",
            "\n",
            "['Great Expectations' 'The Time Machine']\n"
          ]
        },
        {
          "output_type": "stream",
          "name": "stderr",
          "text": [
            "<ipython-input-22-83fb01561afa>:17: FutureWarning: The default value of numeric_only in DataFrame.mean is deprecated. In a future version, it will default to False. In addition, specifying 'numeric_only=None' is deprecated. Select only valid columns or specify the value of numeric_only to silence this warning.\n",
            "  book_ratings.fillna(book_ratings.mean(), inplace=True)\n"
          ]
        }
      ]
    },
    {
      "cell_type": "markdown",
      "source": [
        "Task #03"
      ],
      "metadata": {
        "id": "oP1GQIRdwkwU"
      }
    },
    {
      "cell_type": "code",
      "source": [
        "import pandas as pd\n",
        "df = pd.read_csv('./GOOG.csv')\n",
        "df.head()\n",
        "google_stock = pd.read_csv('./GOOG.csv', index_col=['Date'], parse_dates=True, usecols=['Date', 'Adj Close'])\n",
        "apple_stock = pd.read_csv('./AAPL.csv', index_col=['Date'], parse_dates=True, usecols=['Date', 'Adj Close'])\n",
        "amazon_stock = pd.read_csv('./AMZN.csv', index_col=['Date'], parse_dates=True, usecols=['Date', 'Adj Close'])\n",
        "google_stock.head()\n",
        "amazon_stock.head(3)\n",
        "amazon_stock.head(3)\n",
        "dates = pd.date_range('2000-01-01', '2016-12-31')\n",
        "all_stocks = pd.DataFrame(index = dates)\n",
        "google_stock.rename(columns={'Adj Close': 'google_stock'}, inplace=True)\n",
        "amazon_stock.rename(columns={'Adj Close': 'amazon_stock'}, inplace=True)\n",
        "apple_stock.rename(columns={'Adj Close': 'apple_stock'}, inplace=True)\n",
        "google_stock.head()\n",
        "amazon_stock.head()\n",
        "all_stocks = all_stocks.join(google_stock)\n",
        "all_stocks = all_stocks.join(apple_stock)\n",
        "all_stocks = all_stocks.join(amazon_stock)\n",
        "all_stocks.head()\n",
        "all_stocks.isnull()\n",
        "all_stocks.dropna(axis=0)\n",
        "# Print the average stock price for each stock\n",
        "print('mean:\\n ',all_stocks.mean(axis=0))\n",
        "print()\n",
        "# Print the median stock price for each stock\n",
        "print('median:\\n ', all_stocks.median())\n",
        "print()\n",
        "# Print the standard deviation of the stock price for each stock\n",
        "print('std:\\n ', all_stocks.std())\n",
        "print()\n",
        "# Print the correlation between stocks\n",
        "print('corr:\\n', all_stocks.corr())\n",
        "rollingMean = all_stocks['amazon_stock'].rolling(3).mean()\n",
        "print(rollingMean)\n",
        "%matplotlib inline\n",
        "import matplotlib.pyplot as plt\n",
        "plt.plot(all_stocks['amazon_stock'])\n",
        "plt.plot(rollingMean)\n",
        "plt.legend(['Amazon Stock Price', 'Rolling Mean'])\n",
        "plt.show()\n",
        "\n"
      ],
      "metadata": {
        "colab": {
          "base_uri": "https://localhost:8080/",
          "height": 1000
        },
        "id": "hj6batQCwnfa",
        "outputId": "d71475b2-2461-438c-d375-350ce1083772"
      },
      "execution_count": 24,
      "outputs": [
        {
          "output_type": "stream",
          "name": "stdout",
          "text": [
            "mean:\n",
            "  google_stock    347.420229\n",
            "apple_stock      35.222976\n",
            "amazon_stock    166.095436\n",
            "dtype: float64\n",
            "\n",
            "median:\n",
            "  google_stock    286.397247\n",
            "apple_stock      17.524017\n",
            "amazon_stock     76.980003\n",
            "dtype: float64\n",
            "\n",
            "std:\n",
            "  google_stock    187.671596\n",
            "apple_stock      37.945557\n",
            "amazon_stock    189.212345\n",
            "dtype: float64\n",
            "\n",
            "corr:\n",
            "               google_stock  apple_stock  amazon_stock\n",
            "google_stock      1.000000     0.900242      0.952444\n",
            "apple_stock       0.900242     1.000000      0.906296\n",
            "amazon_stock      0.952444     0.906296      1.000000\n",
            "2000-01-01           NaN\n",
            "2000-01-02           NaN\n",
            "2000-01-03           NaN\n",
            "2000-01-04           NaN\n",
            "2000-01-05     80.354167\n",
            "                 ...    \n",
            "2016-12-27           NaN\n",
            "2016-12-28           NaN\n",
            "2016-12-29    769.560018\n",
            "2016-12-30    762.383341\n",
            "2016-12-31           NaN\n",
            "Freq: D, Name: amazon_stock, Length: 6210, dtype: float64\n"
          ]
        },
        {
          "output_type": "display_data",
          "data": {
            "text/plain": [
              "<Figure size 640x480 with 1 Axes>"
            ],
            "image/png": "[encoded data removed]"
          },
          "metadata": {}
        }
      ]
    }
  ]
}