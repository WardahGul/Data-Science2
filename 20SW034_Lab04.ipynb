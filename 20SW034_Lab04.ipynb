{
  "nbformat": 4,
  "nbformat_minor": 0,
  "metadata": {
    "colab": {
      "provenance": [],
      "authorship_tag": "ABX9TyNBobAlxREN8NyIc5Nndx1Z",
      "include_colab_link": true
    },
    "kernelspec": {
      "name": "python3",
      "display_name": "Python 3"
    },
    "language_info": {
      "name": "python"
    }
  },
  "cells": [
    {
      "cell_type": "markdown",
      "metadata": {
        "id": "view-in-github",
        "colab_type": "text"
      },
      "source": [
        "<a href=\"https://colab.research.google.com/github/WardahGul/Data-Science2/blob/main/20SW034_Lab04.ipynb\" target=\"_parent\"><img src=\"https://colab.research.google.com/assets/colab-badge.svg\" alt=\"Open In Colab\"/></a>"
      ]
    },
    {
      "cell_type": "markdown",
      "source": [
        "Lab #04\n",
        "RollNo#20SW034\n",
        "Lab #04"
      ],
      "metadata": {
        "id": "vP5cGcs9ln9Z"
      }
    },
    {
      "cell_type": "markdown",
      "source": [
        "Task #01"
      ],
      "metadata": {
        "id": "VwltuVFHbsGx"
      }
    },
    {
      "cell_type": "code",
      "source": [
        "import numpy as np\n",
        "\n",
        "# Create a 1D array of even numbers from 2 to 32 (inclusive)\n",
        "even_no = np.arange(2, 34, 2)  # Stop at 34 to include 32\n",
        "\n",
        "# Reshape the 1D array into a 2D array with shape (4, 4)\n",
        "Z = even_no.reshape(4, 4)\n",
        "\n",
        "print(Z)"
      ],
      "metadata": {
        "colab": {
          "base_uri": "https://localhost:8080/"
        },
        "id": "upUTJsMMlxKj",
        "outputId": "f50daf0c-ccff-4b37-b53a-ad7b85d2a854"
      },
      "execution_count": 1,
      "outputs": [
        {
          "output_type": "stream",
          "name": "stdout",
          "text": [
            "[[ 2  4  6  8]\n",
            " [10 12 14 16]\n",
            " [18 20 22 24]\n",
            " [26 28 30 32]]\n"
          ]
        }
      ]
    },
    {
      "cell_type": "markdown",
      "source": [
        "Task #02"
      ],
      "metadata": {
        "id": "wwUlpiIubwNC"
      }
    },
    {
      "cell_type": "code",
      "source": [
        "X = np.arange(1, 26).reshape(5, 5)\n",
        "\n",
        "# Use Boolean indexing to pick out only the odd numbers in the array\n",
        "Y = X[X % 2 != 0]\n",
        "\n",
        "print(\"Actual array X:\")\n",
        "print(X)\n",
        "\n",
        "print(\"\\nArray Y with only odd numbers from X:\")\n",
        "print(Y)"
      ],
      "metadata": {
        "colab": {
          "base_uri": "https://localhost:8080/"
        },
        "id": "zKjWlzoNb0DP",
        "outputId": "19221e6b-7324-47d8-8a6d-10bad28a2fc3"
      },
      "execution_count": 2,
      "outputs": [
        {
          "output_type": "stream",
          "name": "stdout",
          "text": [
            "Actual array X:\n",
            "[[ 1  2  3  4  5]\n",
            " [ 6  7  8  9 10]\n",
            " [11 12 13 14 15]\n",
            " [16 17 18 19 20]\n",
            " [21 22 23 24 25]]\n",
            "\n",
            "Array Y with only odd numbers from X:\n",
            "[ 1  3  5  7  9 11 13 15 17 19 21 23 25]\n"
          ]
        }
      ]
    },
    {
      "cell_type": "markdown",
      "source": [
        "Task #03"
      ],
      "metadata": {
        "id": "T-_a1KCccfLc"
      }
    },
    {
      "cell_type": "code",
      "source": [
        "import numpy as np\n",
        "\n",
        "# Use Broadcasting to create a 4 x 4 ndarray with consecutive columns\n",
        "X = np.arange(1, 5)[:, np.newaxis] * np.ones((1, 4))\n",
        "\n",
        "print(X)"
      ],
      "metadata": {
        "colab": {
          "base_uri": "https://localhost:8080/"
        },
        "id": "cTK-SdvHcheK",
        "outputId": "49c333ab-5bb0-4705-a839-3497161a1c11"
      },
      "execution_count": 3,
      "outputs": [
        {
          "output_type": "stream",
          "name": "stdout",
          "text": [
            "[[1. 1. 1. 1.]\n",
            " [2. 2. 2. 2.]\n",
            " [3. 3. 3. 3.]\n",
            " [4. 4. 4. 4.]]\n"
          ]
        }
      ]
    },
    {
      "cell_type": "markdown",
      "source": [
        "Task#04"
      ],
      "metadata": {
        "id": "36B8W5KVdtjV"
      }
    },
    {
      "cell_type": "code",
      "source": [],
      "metadata": {
        "id": "CdsHMchadxcd"
      },
      "execution_count": null,
      "outputs": []
    }
  ]
}